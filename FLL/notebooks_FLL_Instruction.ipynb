{
  "metadata": {
    "language_info": {
      "codemirror_mode": {
        "name": "python",
        "version": 3
      },
      "file_extension": ".py",
      "mimetype": "text/x-python",
      "name": "python",
      "nbconvert_exporter": "python",
      "pygments_lexer": "ipython3",
      "version": "3.8"
    },
    "kernelspec": {
      "name": "python",
      "display_name": "Python (Pyodide)",
      "language": "python"
    }
  },
  "nbformat_minor": 4,
  "nbformat": 4,
  "cells": [
    {
      "cell_type": "code",
      "source": "print (\"Half the team\")",
      "metadata": {
        "trusted": true
      },
      "execution_count": 24,
      "outputs": [
        {
          "name": "stdout",
          "text": "Half the team\n",
          "output_type": "stream"
        }
      ]
    },
    {
      "cell_type": "markdown",
      "source": "# Exponent Function with for loop",
      "metadata": {
        "jupyter": {
          "source_hidden": true
        },
        "tags": []
      }
    },
    {
      "cell_type": "code",
      "source": "#Power function with for\ndef exponentCalc (x, power):\n    output = 1\n    count = 1\n    for count in range(power):\n        output *= x\n        \n    return output\n\nprint(exponentCalc (2,3))\nprint (exponentCalc (4,3))",
      "metadata": {
        "trusted": true
      },
      "execution_count": 23,
      "outputs": [
        {
          "name": "stdout",
          "text": "8\n64\n",
          "output_type": "stream"
        }
      ]
    },
    {
      "cell_type": "markdown",
      "source": "# Exponent function with while loop",
      "metadata": {}
    },
    {
      "cell_type": "code",
      "source": "#Power function with while\ndef exponentCalcWhile (x, power):\n    count = 0\n    output = 1\n    \n    while count < power:\n        output *= x\n        count += 1\n        print (f\"Count = {count} and Output = {output}\")\n\n    return output\n\nprint(exponentCalcWhile (2,3))\nprint(exponentCalc (5,3))\n\n",
      "metadata": {
        "trusted": true
      },
      "execution_count": 21,
      "outputs": [
        {
          "name": "stdout",
          "text": "Count = 1 and Output = 2\nCount = 2 and Output = 4\nCount = 3 and Output = 8\n8\n125\n",
          "output_type": "stream"
        }
      ]
    },
    {
      "cell_type": "code",
      "source": "",
      "metadata": {},
      "execution_count": null,
      "outputs": []
    }
  ]
}